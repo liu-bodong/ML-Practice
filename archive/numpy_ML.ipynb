{
 "cells": [
  {
   "cell_type": "markdown",
   "id": "195d4925",
   "metadata": {},
   "source": [
    "Implement machine learning using NumPy"
   ]
  },
  {
   "cell_type": "code",
   "execution_count": null,
   "id": "8d72ad11",
   "metadata": {},
   "outputs": [],
   "source": [
    "import numpy as np\n",
    "%matplotlib inline\n",
    "from matplotlib import pyplot as plt\n",
    "import torch\n",
    "from torch import nn, optim\n",
    "from torch.utils.data import DataLoader, TensorDataset\n",
    "from torch.utils.tensorboard import SummaryWriter"
   ]
  },
  {
   "cell_type": "code",
   "execution_count": null,
   "id": "fc5b41ea",
   "metadata": {},
   "outputs": [],
   "source": [
    "np.random.seed(42)\n",
    "x = np.linspace(-1, 1, 100).reshape(100, 1)\n",
    "y = 3 * np.power(x, 2) + 2 + 0.2 * np.random.randn(x.size).reshape(100, 1)"
   ]
  },
  {
   "cell_type": "code",
   "execution_count": null,
   "id": "fe560d84",
   "metadata": {},
   "outputs": [],
   "source": [
    "plt.scatter(x, y)\n",
    "plt.show()"
   ]
  },
  {
   "cell_type": "code",
   "execution_count": null,
   "id": "aa86d626",
   "metadata": {},
   "outputs": [],
   "source": [
    "lr = 0.001\n",
    "w1 = np.random.rand(1,1)\n",
    "b1 = np.random.rand(1,1)\n",
    "\n",
    "for i in range(800):\n",
    "    y_pred = np.power(x,2) * w1 + b1\n",
    "    loss = 0.5 * (y_pred - y) ** 2\n",
    "    loss = loss.sum()\n",
    "    \n",
    "    grad_w = np.sum((y_pred - y) * np.power(x, 2))\n",
    "    grad_b = np.sum((y_pred - y))\n",
    "    \n",
    "    # print(\"loss: \", loss)\n",
    "    # print(\"grad_w: \", grad_w)\n",
    "    # print(\"grad_b: \", grad_b)\n",
    "    # print(\"w1: \", w1)\n",
    "    # print(\"b1: \", b1)\n",
    "    \n",
    "    w1 = w1 - lr * grad_w\n",
    "    b1 = b1 - lr * grad_b"
   ]
  },
  {
   "cell_type": "code",
   "execution_count": null,
   "id": "c02f2a78",
   "metadata": {},
   "outputs": [],
   "source": [
    "print(w1, b1)"
   ]
  },
  {
   "cell_type": "code",
   "execution_count": null,
   "id": "f2597e52",
   "metadata": {},
   "outputs": [],
   "source": [
    "w = torch.from_numpy(w1)\n",
    "b = torch.from_numpy(b1)"
   ]
  },
  {
   "cell_type": "code",
   "execution_count": null,
   "id": "ed6b9754",
   "metadata": {},
   "outputs": [],
   "source": [
    "loss_func = nn.MSELoss()\n",
    "optimizer = optim.SGD([w, b], lr=0.001)"
   ]
  },
  {
   "cell_type": "code",
   "execution_count": null,
   "id": "82dc018b",
   "metadata": {},
   "outputs": [],
   "source": [
    "x = np.linspace(-1, 1, 100).reshape(100, 1)\n",
    "y = 3 * np.power(x, 2) + 2 + 0.2 * np.random.randn(x.size).reshape(100, 1)\n",
    "\n",
    "writer = SummaryWriter(log_dir='logs', comment='Linear')\n",
    "\n",
    "x = torch.tensor(x, requires_grad=True)\n",
    "y = torch.tensor(y, requires_grad=True)\n",
    "\n",
    "for i in range(1000):\n",
    "    optimizer.zero_grad()\n",
    "    y_pred = x.pow(2) * w + b\n",
    "    loss = loss_func(y_pred, y)\n",
    "    loss.backward()\n",
    "    optimizer.step()\n",
    "    writer.add_scalar('loss', loss.item(), i)\n",
    "\n",
    "print(w, b)"
   ]
  },
  {
   "cell_type": "code",
   "execution_count": null,
   "id": "0ef031d1",
   "metadata": {},
   "outputs": [],
   "source": []
  }
 ],
 "metadata": {
  "kernelspec": {
   "display_name": "ANN",
   "language": "python",
   "name": "python3"
  },
  "language_info": {
   "codemirror_mode": {
    "name": "ipython",
    "version": 3
   },
   "file_extension": ".py",
   "mimetype": "text/x-python",
   "name": "python",
   "nbconvert_exporter": "python",
   "pygments_lexer": "ipython3",
   "version": "3.12.9"
  }
 },
 "nbformat": 4,
 "nbformat_minor": 5
}
