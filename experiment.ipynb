{
 "cells": [
  {
   "cell_type": "code",
   "execution_count": 1,
   "id": "8fba33a1",
   "metadata": {},
   "outputs": [],
   "source": [
    "import torch\n",
    "import numpy as np"
   ]
  },
  {
   "cell_type": "code",
   "execution_count": 10,
   "id": "9c244709",
   "metadata": {},
   "outputs": [
    {
     "name": "stdout",
     "output_type": "stream",
     "text": [
      "Softmax output:\n",
      "tensor([6.0959e-04, 6.6849e-01, 4.5043e-03, 1.6570e-03, 3.3282e-02, 2.4593e-01,\n",
      "        3.3282e-02, 1.2244e-02])\n",
      "tensor([6.0959e-04, 6.6849e-01, 4.5043e-03, 1.6570e-03, 3.3282e-02, 2.4593e-01,\n",
      "        3.3282e-02, 1.2244e-02])\n"
     ]
    }
   ],
   "source": [
    "x = torch.tensor([2,9,4,3,6,8,6,5])\n",
    "\n",
    "soft = torch.nn.Softmax(dim=0)\n",
    "soft_x = soft(x.float())\n",
    "print(\"Softmax output:\")\n",
    "print(soft_x)\n",
    "\n",
    "soft_x_2 = soft(x.float())\n",
    "print(soft_x_2)"
   ]
  },
  {
   "cell_type": "code",
   "execution_count": null,
   "id": "b7af91ec",
   "metadata": {},
   "outputs": [],
   "source": []
  }
 ],
 "metadata": {
  "kernelspec": {
   "display_name": "nn",
   "language": "python",
   "name": "python3"
  },
  "language_info": {
   "codemirror_mode": {
    "name": "ipython",
    "version": 3
   },
   "file_extension": ".py",
   "mimetype": "text/x-python",
   "name": "python",
   "nbconvert_exporter": "python",
   "pygments_lexer": "ipython3",
   "version": "3.10.18"
  }
 },
 "nbformat": 4,
 "nbformat_minor": 5
}
