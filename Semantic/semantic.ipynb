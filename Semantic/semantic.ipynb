{
 "cells": [
  {
   "cell_type": "markdown",
   "id": "e45a7dde",
   "metadata": {},
   "source": [
    "### Semantic Segmentation on Pascal VOC2012"
   ]
  },
  {
   "cell_type": "code",
   "execution_count": null,
   "id": "1a8e9183",
   "metadata": {},
   "outputs": [],
   "source": [
    "import os\n",
    "import torch\n",
    "import torchvision\n",
    "from torch import nn\n",
    "from torch.nn import functional as F \n",
    "from d2l import torch as d2l"
   ]
  },
  {
   "cell_type": "code",
   "execution_count": null,
   "id": "a128139c",
   "metadata": {},
   "outputs": [],
   "source": [
    "#@save\n",
    "d2l.DATA_HUB['voc2012'] = (d2l.DATA_URL + 'VOCtrainval_11-May-2012.tar',\n",
    "                           '4e443f8a2eca6b1dac8a6c57641b67dd40621a49')\n",
    "\n",
    "voc_dir = d2l.download_extract('voc2012', 'VOCdevkit/VOC2012')"
   ]
  },
  {
   "cell_type": "code",
   "execution_count": null,
   "id": "c1780f15",
   "metadata": {},
   "outputs": [],
   "source": [
    "def read_voc_images(voc_dir, is_train=True):\n",
    "    \"\"\"读取所有VOC图像并标注\"\"\"\n",
    "    txt_fname = os.path.join(voc_dir, 'ImageSets', 'Segmentation',\n",
    "                             'train.txt' if is_train else 'val.txt')\n",
    "    mode = torchvision.io.image.ImageReadMode.RGB\n",
    "    with open(txt_fname, 'r') as f:\n",
    "        images = f.read().split()\n",
    "    features, labels = [], []\n",
    "    for i, fname in enumerate(images):\n",
    "        features.append(torchvision.io.read_image(os.path.join(\n",
    "            voc_dir, 'JPEGImages', f'{fname}.jpg')))\n",
    "        labels.append(torchvision.io.read_image(os.path.join(\n",
    "            voc_dir, 'SegmentationClass' ,f'{fname}.png'), mode))\n",
    "    return features, labels\n",
    "\n",
    "train_features, train_labels = read_voc_images(voc_dir, True)"
   ]
  },
  {
   "cell_type": "code",
   "execution_count": null,
   "id": "90bef636",
   "metadata": {},
   "outputs": [],
   "source": [
    "n = 6\n",
    "imgs = train_features[0:n] + train_labels[0:6]\n",
    "imgs = [img.permute(1, 2, 0) for img in imgs]\n",
    "d2l.show_images(imgs, 2, n)"
   ]
  },
  {
   "cell_type": "code",
   "execution_count": null,
   "id": "13b060a4",
   "metadata": {},
   "outputs": [],
   "source": [
    "VOC_COLORMAP = [[0, 0, 0], [128, 0, 0], [0, 128, 0], [128, 128, 0],\n",
    "                [0, 0, 128], [128, 0, 128], [0, 128, 128], [128, 128, 128],\n",
    "                [64, 0, 0], [192, 0, 0], [64, 128, 0], [192, 128, 0],\n",
    "                [64, 0, 128], [192, 0, 128], [64, 128, 128], [192, 128, 128],\n",
    "                [0, 64, 0], [128, 64, 0], [0, 192, 0], [128, 192, 0],\n",
    "                [0, 64, 128]]\n",
    "\n",
    "VOC_CLASSES = ['background', 'aeroplane', 'bicycle', 'bird', 'boat',    \n",
    "               'bottle', 'bus', 'car', 'cat', 'chair', 'cow',\n",
    "               'diningtable', 'dog', 'horse', 'motorbike', 'person',\n",
    "               'potted plant', 'sheep', 'sofa', 'train', 'tv/monitor']"
   ]
  },
  {
   "cell_type": "code",
   "execution_count": null,
   "id": "ca00d49e",
   "metadata": {},
   "outputs": [],
   "source": [
    "def voc_colormap2label():\n",
    "    colormap2label = torch.zeros(256 ** 3, dtype=torch.long)\n",
    "    for i, colormap in enumerate(VOC_COLORMAP):\n",
    "        colormap2label[(colormap[0] * 256 + colormap[1]) * 256 + colormap[2]] = i\n",
    "    return colormap2label\n",
    "\n",
    "def voc_label_indices(colormap, colormap2label):\n",
    "    colormap = colormap.permute(1,2,0).numpy().astype('int32')\n",
    "    idx = ((colormap[:,:,0] * 256 + colormap[:,:,1]) * 256 + colormap[:,:,2])\n",
    "    return colormap2label[idx]\n",
    "\n"
   ]
  },
  {
   "cell_type": "code",
   "execution_count": null,
   "id": "b2320567",
   "metadata": {},
   "outputs": [],
   "source": [
    "def voc_random_crop(img, label, height, width):\n",
    "    box = torchvision.transforms.RandomCrop.get_params(img, (height, width))\n",
    "    img = torchvision.transforms.functional.crop(img, *box)\n",
    "    label = torchvision.transforms.functional.crop(label, *box)\n",
    "    return img, label"
   ]
  },
  {
   "cell_type": "code",
   "execution_count": null,
   "id": "0eba0c36",
   "metadata": {},
   "outputs": [],
   "source": [
    "imgs = []\n",
    "for _ in range(n):\n",
    "    imgs += voc_random_crop(train_features[0], train_labels[0], 200, 300)\n",
    "\n",
    "imgs = [img.permute(1, 2, 0) for img in imgs]\n",
    "d2l.show_images(imgs[::2] + imgs[1::2], 2, n)"
   ]
  },
  {
   "cell_type": "code",
   "execution_count": null,
   "id": "b2d6e26c",
   "metadata": {},
   "outputs": [],
   "source": [
    "class VOCSegDataset(torch.utils.data.Dataset):\n",
    "    def __init__(self, is_train, crop_size, voc_dir):\n",
    "        self.normalize_trans = torchvision.transforms.Normalize(\n",
    "            mean=[0.485, 0.456, 0.406], std=[0.229, 0.224, 0.225])\n",
    "        self.crop_size = crop_size\n",
    "        features, labels = read_voc_images(voc_dir, is_train=is_train)\n",
    "        self.features = [self.normalize_image(feature)\n",
    "                         for feature in self.filter(features)]\n",
    "        self.labels = self.filter(labels)\n",
    "        self.colormap2label = voc_colormap2label()\n",
    "        # print('read ' + str(len(self.features)) + ' examples')\n",
    "\n",
    "    def normalize_image(self, img):\n",
    "        return self.normalize_trans(img.float() / 255)\n",
    "\n",
    "    def filter(self, imgs):\n",
    "        return [img for img in imgs if (\n",
    "            img.shape[1] >= self.crop_size[0] and\n",
    "            img.shape[2] >= self.crop_size[1])]\n",
    "\n",
    "    def __getitem__(self, idx):\n",
    "        feature, label = voc_random_crop(self.features[idx], self.labels[idx],\n",
    "                                       *self.crop_size)\n",
    "        return (feature, voc_label_indices(label, self.colormap2label))\n",
    "\n",
    "    def __len__(self):\n",
    "        return len(self.features)"
   ]
  },
  {
   "cell_type": "code",
   "execution_count": null,
   "id": "5fe706dd",
   "metadata": {},
   "outputs": [],
   "source": [
    "crop_size = (320, 480)\n",
    "voc_train = VOCSegDataset(True, crop_size, voc_dir)\n",
    "voc_test  = VOCSegDataset(False, crop_size, voc_dir)"
   ]
  },
  {
   "cell_type": "code",
   "execution_count": null,
   "id": "087b9948",
   "metadata": {},
   "outputs": [],
   "source": [
    "def conv_T(X, K):\n",
    "    h, w = K.shape\n",
    "    Y = torch.zeros((X.shape[0] + h - 1, X.shape[1] + h - 1))\n",
    "    for i in range(X.shape[0]):\n",
    "        for j in range(X.shape[1]):\n",
    "            Y[i:i+h, j:j+w] += X[i,j] * K\n",
    "    return Y"
   ]
  },
  {
   "cell_type": "code",
   "execution_count": null,
   "id": "0aeff4c1",
   "metadata": {},
   "outputs": [],
   "source": [
    "X = torch.tensor([[0.0,1.0],[2.0,3.0]]).reshape((1,1,2,2))\n",
    "K = torch.clone(X)\n",
    "convT = nn.ConvTranspose2d(1,1,2,padding=2,stride=3, bias=False)\n",
    "convT.weight.data = K\n",
    "convT(X)\n"
   ]
  },
  {
   "cell_type": "code",
   "execution_count": null,
   "id": "d5957506",
   "metadata": {},
   "outputs": [],
   "source": [
    "pretrained_net = torchvision.models.resnet18(weights=True)\n",
    "net = nn.Sequential(*list(pretrained_net.children())[:-2], \\\n",
    "                    nn.Conv2d(512, 21, 1),\n",
    "                    nn.ConvTranspose2d(21, 21, 64, 32, 16))\n",
    "\n",
    "net = nn.Sequantial(collections.OrderedDict)\n",
    "X  = torch.rand(size=(1,3,320,480))\n",
    "net(X).shape\n"
   ]
  },
  {
   "cell_type": "code",
   "execution_count": null,
   "id": "ede27709",
   "metadata": {},
   "outputs": [],
   "source": [
    "def bilinear_kernel(in_channels, out_channels, kernel_size):\n",
    "    factor = (kernel_size + 1) // 2\n",
    "    if kernel_size % 2 == 1:\n",
    "        center = factor - 1\n",
    "    else:\n",
    "        center = factor - 0.5\n",
    "    og = (torch.arange(kernel_size).reshape(-1, 1),\n",
    "          torch.arange(kernel_size).reshape(1, -1))\n",
    "    filt = (1 - torch.abs(og[0] - center) / factor) * \\\n",
    "           (1 - torch.abs(og[1] - center) / factor)\n",
    "    weight = torch.zeros((in_channels, out_channels,\n",
    "                          kernel_size, kernel_size))\n",
    "    weight[range(in_channels), range(out_channels), :, :] = filt\n",
    "    return weight"
   ]
  },
  {
   "cell_type": "code",
   "execution_count": null,
   "id": "40926333",
   "metadata": {},
   "outputs": [],
   "source": [
    "conv_trans = nn.ConvTranspose2d(3, 3, kernel_size=4, padding=1, stride=2,\n",
    "                                bias=False)\n",
    "conv_trans.weight.data.copy_(bilinear_kernel(3, 3, 4))"
   ]
  },
  {
   "cell_type": "code",
   "execution_count": null,
   "id": "39d266a3",
   "metadata": {},
   "outputs": [],
   "source": [
    "def loss(inputs, targets):\n",
    "    return F.cross_entropy(inputs, targets, reduction='none').mean(1).mean(1)\n"
   ]
  },
  {
   "cell_type": "code",
   "execution_count": null,
   "id": "cb16e385",
   "metadata": {},
   "outputs": [],
   "source": [
    "batch_size, crop_size = 32, (320, 480)\n",
    "train_iter, test_iter = d2l.load_data_voc(batch_size, crop_size)"
   ]
  },
  {
   "cell_type": "code",
   "execution_count": null,
   "id": "846f9cc7",
   "metadata": {},
   "outputs": [],
   "source": [
    "num_epochs, lr, wd, devices = 5, 0.001, 1e-3, d2l.try_all_gpus()\n",
    "trainer = torch.optim.SGD(net.parameters(), lr=lr, weight_decay=wd)\n",
    "d2l.train_ch13(net, train_iter, test_iter, loss, trainer, num_epochs, devices)"
   ]
  },
  {
   "cell_type": "code",
   "execution_count": null,
   "id": "2efacd76",
   "metadata": {},
   "outputs": [],
   "source": [
    "print(11)"
   ]
  },
  {
   "cell_type": "code",
   "execution_count": null,
   "id": "36bc0046",
   "metadata": {},
   "outputs": [],
   "source": []
  }
 ],
 "metadata": {
  "kernelspec": {
   "display_name": "d2l",
   "language": "python",
   "name": "python3"
  },
  "language_info": {
   "codemirror_mode": {
    "name": "ipython",
    "version": 3
   },
   "file_extension": ".py",
   "mimetype": "text/x-python",
   "name": "python",
   "nbconvert_exporter": "python",
   "pygments_lexer": "ipython3",
   "version": "3.9.23"
  }
 },
 "nbformat": 4,
 "nbformat_minor": 5
}
