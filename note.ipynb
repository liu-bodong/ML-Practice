{
 "cells": [
  {
   "cell_type": "code",
   "execution_count": null,
   "id": "7f0f83d4",
   "metadata": {},
   "outputs": [],
   "source": [
    "import torch\n",
    "from torch import nn\n",
    "from d2l import torch as d2l\n",
    "import numpy as np"
   ]
  },
  {
   "cell_type": "code",
   "execution_count": null,
   "id": "e912d7d2",
   "metadata": {},
   "outputs": [],
   "source": [
    "def corr2d(X, K):\n",
    "    h, w = K.shape\n",
    "    Y = torch.zeros((X.shape[0] - h + 1, X.shape[1] - w + 1))\n",
    "    for i in range(Y.shape[0]):\n",
    "        for j in range(Y.shape[1]):\n",
    "            Y[i, j] = (X[i:i+h, j:j+w] * K).sum()\n",
    "    return Y\n"
   ]
  },
  {
   "cell_type": "code",
   "execution_count": null,
   "id": "dd8a44d5",
   "metadata": {},
   "outputs": [],
   "source": [
    "X = torch.ones((6, 8))\n",
    "X[:3, 2:6] = 0\n",
    "X"
   ]
  },
  {
   "cell_type": "code",
   "execution_count": null,
   "id": "bece0513",
   "metadata": {},
   "outputs": [],
   "source": [
    "K = torch.tensor([[1.0, -1.0]])"
   ]
  },
  {
   "cell_type": "code",
   "execution_count": null,
   "id": "1574d827",
   "metadata": {},
   "outputs": [],
   "source": [
    "Y = corr2d(X, K)\n",
    "Y"
   ]
  },
  {
   "cell_type": "code",
   "execution_count": null,
   "id": "ef1047ca",
   "metadata": {},
   "outputs": [],
   "source": [
    "Y = corr2d(X.T, K)\n",
    "Y.T"
   ]
  },
  {
   "cell_type": "code",
   "execution_count": null,
   "id": "c6bcf703",
   "metadata": {},
   "outputs": [],
   "source": [
    "x = np.random.random((10))\n",
    "print(x)\n",
    "\n",
    "denom = np.sum(np.exp(x))\n",
    "softmax = np.exp(x) / denom\n",
    "print(softmax)\n",
    "print(np.sum(softmax))"
   ]
  },
  {
   "cell_type": "code",
   "execution_count": null,
   "id": "5a83affc",
   "metadata": {},
   "outputs": [],
   "source": [
    "x = softmax\n",
    "denom = np.sum(np.exp(x))\n",
    "softmax = np.exp(x) / denom\n",
    "print(softmax)\n",
    "print(np.sum(softmax))"
   ]
  },
  {
   "cell_type": "code",
   "execution_count": null,
   "id": "af61dde7",
   "metadata": {},
   "outputs": [],
   "source": []
  }
 ],
 "metadata": {
  "kernelspec": {
   "display_name": "d2l",
   "language": "python",
   "name": "python3"
  },
  "language_info": {
   "codemirror_mode": {
    "name": "ipython",
    "version": 3
   },
   "file_extension": ".py",
   "mimetype": "text/x-python",
   "name": "python",
   "nbconvert_exporter": "python",
   "pygments_lexer": "ipython3",
   "version": "3.9.23"
  }
 },
 "nbformat": 4,
 "nbformat_minor": 5
}
